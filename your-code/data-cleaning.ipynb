{
 "cells": [
  {
   "cell_type": "markdown",
   "metadata": {},
   "source": [
    "# The 500 Greatest Albums of All Time\n",
    "\n",
    "In 2003, the Rolling Stones magazinde published an article about a selection of the 500 greatest albums of the history. This database will serve as an exercise to practice dataset cleaning and to complete information using APIs from Wikipedia and Spotify.\n",
    "\n",
    "\n",
    "\n",
    "## Dataset cleaning and cross correlation with API data\n",
    "\n",
    "I obtained the top 500 albums dataset from the Kaggle website, using the following link:\n",
    "\n",
    "https://www.kaggle.com/notgibs/500-greatest-albums-of-all-time-rolling-stone?select=albumlist.csv\n",
    "\n",
    "To procede with the data cleaning we begin iporting the neccesaray library and functions. In enrich_functions.py, that we import in this notebook, we have several user made functions to work better with the selected APIs.\n"
   ]
  },
  {
   "cell_type": "code",
   "execution_count": 1,
   "metadata": {},
   "outputs": [],
   "source": [
    "from dotenv import load_dotenv\n",
    "import os\n",
    "import requests\n",
    "import pandas as pd\n",
    "import spotipy\n",
    "from spotipy.oauth2 import SpotifyClientCredentials\n",
    "import numpy as np\n",
    "from enrich_functions import *\n",
    "import re"
   ]
  },
  {
   "cell_type": "markdown",
   "metadata": {},
   "source": [
    "## Data cleaning\n",
    "\n",
    "We begin importing the dataset and showing its header, to have a look at how it is organized."
   ]
  },
  {
   "cell_type": "code",
   "execution_count": 2,
   "metadata": {},
   "outputs": [
    {
     "data": {
      "text/html": [
       "<div>\n",
       "<style scoped>\n",
       "    .dataframe tbody tr th:only-of-type {\n",
       "        vertical-align: middle;\n",
       "    }\n",
       "\n",
       "    .dataframe tbody tr th {\n",
       "        vertical-align: top;\n",
       "    }\n",
       "\n",
       "    .dataframe thead th {\n",
       "        text-align: right;\n",
       "    }\n",
       "</style>\n",
       "<table border=\"1\" class=\"dataframe\">\n",
       "  <thead>\n",
       "    <tr style=\"text-align: right;\">\n",
       "      <th></th>\n",
       "      <th>Year</th>\n",
       "      <th>Album</th>\n",
       "      <th>Artist</th>\n",
       "      <th>Genre</th>\n",
       "      <th>Subgenre</th>\n",
       "    </tr>\n",
       "    <tr>\n",
       "      <th>Number</th>\n",
       "      <th></th>\n",
       "      <th></th>\n",
       "      <th></th>\n",
       "      <th></th>\n",
       "      <th></th>\n",
       "    </tr>\n",
       "  </thead>\n",
       "  <tbody>\n",
       "    <tr>\n",
       "      <th>1</th>\n",
       "      <td>1967</td>\n",
       "      <td>Sgt. Pepper's Lonely Hearts Club Band</td>\n",
       "      <td>The Beatles</td>\n",
       "      <td>Rock</td>\n",
       "      <td>Rock &amp; Roll, Psychedelic Rock</td>\n",
       "    </tr>\n",
       "    <tr>\n",
       "      <th>2</th>\n",
       "      <td>1966</td>\n",
       "      <td>Pet Sounds</td>\n",
       "      <td>The Beach Boys</td>\n",
       "      <td>Rock</td>\n",
       "      <td>Pop Rock, Psychedelic Rock</td>\n",
       "    </tr>\n",
       "    <tr>\n",
       "      <th>3</th>\n",
       "      <td>1966</td>\n",
       "      <td>Revolver</td>\n",
       "      <td>The Beatles</td>\n",
       "      <td>Rock</td>\n",
       "      <td>Psychedelic Rock, Pop Rock</td>\n",
       "    </tr>\n",
       "    <tr>\n",
       "      <th>4</th>\n",
       "      <td>1965</td>\n",
       "      <td>Highway 61 Revisited</td>\n",
       "      <td>Bob Dylan</td>\n",
       "      <td>Rock</td>\n",
       "      <td>Folk Rock, Blues Rock</td>\n",
       "    </tr>\n",
       "    <tr>\n",
       "      <th>5</th>\n",
       "      <td>1965</td>\n",
       "      <td>Rubber Soul</td>\n",
       "      <td>The Beatles</td>\n",
       "      <td>Rock, Pop</td>\n",
       "      <td>Pop Rock</td>\n",
       "    </tr>\n",
       "  </tbody>\n",
       "</table>\n",
       "</div>"
      ],
      "text/plain": [
       "        Year                                  Album          Artist  \\\n",
       "Number                                                                \n",
       "1       1967  Sgt. Pepper's Lonely Hearts Club Band     The Beatles   \n",
       "2       1966                             Pet Sounds  The Beach Boys   \n",
       "3       1966                               Revolver     The Beatles   \n",
       "4       1965                   Highway 61 Revisited       Bob Dylan   \n",
       "5       1965                            Rubber Soul     The Beatles   \n",
       "\n",
       "            Genre                       Subgenre  \n",
       "Number                                            \n",
       "1            Rock  Rock & Roll, Psychedelic Rock  \n",
       "2            Rock     Pop Rock, Psychedelic Rock  \n",
       "3            Rock     Psychedelic Rock, Pop Rock  \n",
       "4            Rock          Folk Rock, Blues Rock  \n",
       "5       Rock, Pop                       Pop Rock  "
      ]
     },
     "execution_count": 2,
     "metadata": {},
     "output_type": "execute_result"
    }
   ],
   "source": [
    "top500_raw = pd.read_csv(\"../dataset/albumlist.csv\", index_col=0, encoding = \"ISO-8859-1\")\n",
    "top500_raw.head()"
   ]
  },
  {
   "cell_type": "markdown",
   "metadata": {},
   "source": [
    "We begin by changing the column names to lowercase. Even though we can work with capitalized words, this is just a convention."
   ]
  },
  {
   "cell_type": "code",
   "execution_count": 3,
   "metadata": {},
   "outputs": [],
   "source": [
    "top500_raw.columns = map(str.lower, top500_raw.columns)"
   ]
  },
  {
   "cell_type": "markdown",
   "metadata": {},
   "source": [
    "Now let's do a simple cleaning of bad characters in the genre and sub genre columns. \n",
    "\n",
    "There are albums that combine genre and subgenres, so we create for each cell a list with the different categories."
   ]
  },
  {
   "cell_type": "code",
   "execution_count": 4,
   "metadata": {},
   "outputs": [],
   "source": [
    "clean = lambda x: x.replace(\"Ê\",\" \").split(\", \")\n",
    "top500_raw[\"genre\"]=top500_raw[\"genre\"].apply(clean)\n",
    "top500_raw[\"subgenre\"]=top500_raw[\"subgenre\"].apply(clean)"
   ]
  },
  {
   "cell_type": "markdown",
   "metadata": {},
   "source": [
    "We need to do some treatement on the albums column, as there are some of them whose same is not the same as the one listed in the Spotify catalog. They also don't admit \"'\", so we eliminate them. \n",
    "\n",
    "To conduct this cleaning we create a dictionary in a function to replace bad names with RegEx. We apply this function to the \"album\" column using Panda's apply."
   ]
  },
  {
   "cell_type": "code",
   "execution_count": 5,
   "metadata": {},
   "outputs": [],
   "source": [
    "def wrong(x):\n",
    "    dic={'The Beatles (\"The White Album\")':\"The White Album\",\n",
    "          'Sign \"Peace\" the Times':'Sign \"O\" the Times',\n",
    "          'The Band (\"The Brown Album\")':'The Band',\n",
    "          'Back to Mono (1958-1969)':'Back To Mono',\n",
    "          '[Led Zeppelin IV]':'Led Zeppelin IV',\n",
    "          'Saturday Night Fever: The Original Movie Sound Track':'Saturday Night Fever',\n",
    "          \"The B 52's / Play Loud\":\"The B 52's\",\n",
    "          \"The Very Best of Linda Ronstadt\":\"The Best of Linda Ronstadt\",\n",
    "          \"The Anthology: 1961-1977\": \"The Very Best of Curtis Mayfield\",\n",
    "          'Blues Breakers With Eric Clapton (\"The Beano Album\")':\"Bluesbreakers\",\n",
    "          \"Bo Diddley / Go Bo Diddley\":\"Go Bo Diddley\",\n",
    "          \"Can't Buy a Thrill\":\"Cant Buy a Thrill\",\n",
    "          'Metallica (\"The Black Album\")':\"Metallica\",\n",
    "          \"Trans Europa Express\":\"Trans-Europe Express\",\n",
    "          \"'\":\"\",\n",
    "          \"Honky Chteau\":\"Honky Chateau\",\n",
    "          \"Cheap Trick at Budokan\":\"At Budokan\"\n",
    "          }\n",
    "    xr=x\n",
    "    for wrong,right in dic.items():\n",
    "        xr=xr.replace(wrong,right)\n",
    "    return xr\n",
    "\n",
    "top500_raw[\"album\"]=top500_raw[\"album\"].apply(wrong)"
   ]
  },
  {
   "cell_type": "code",
   "execution_count": 6,
   "metadata": {},
   "outputs": [],
   "source": [
    "top500_raw.drop([178,196,198,214,245,278,289,346,363,377,400,421,449,170,459],inplace=True)"
   ]
  },
  {
   "cell_type": "markdown",
   "metadata": {},
   "source": [
    "## Completing the information using the Spotify API\n",
    "\n",
    "Using the credentials obtained from Spotify, we are going to complete the information from each album. We are going to do by searching the unique album ID for each input. With this ID, we are going to collect all the tracks for each album, and from each track, we are going to download the musical features (danceability, energy, loudness, speechiness, acousticness, instrumentalness, liveness, valence and tempo). I am going to compute the median of all tracks in each album to obtain the median album features.\n",
    "\n",
    "To do so, we load the credential for the Spotify API, and import the `Spotipy` library, used to manage the API requests. In addition, in `enrich_functions.py`, there are stored functions to retrive the desired data, that were made for this specific project.\n",
    "\n",
    "First of all, we initialize the Spotify API mangament system in python with `Spotipy` and loading the ID and secret token:"
   ]
  },
  {
   "cell_type": "code",
   "execution_count": 7,
   "metadata": {},
   "outputs": [
    {
     "data": {
      "text/plain": [
       "<spotipy.client.Spotify at 0x7ffa8053c250>"
      ]
     },
     "execution_count": 7,
     "metadata": {},
     "output_type": "execute_result"
    }
   ],
   "source": [
    "load_dotenv()\n",
    "cid = os.getenv(\"SPOTIFY_ID\")\n",
    "secret = os.getenv(\"SPOTIFY_SECRET\")\n",
    "client_credentials_manager = SpotifyClientCredentials(client_id=cid, client_secret=secret)\n",
    "spotify = spotipy.Spotify(client_credentials_manager=client_credentials_manager)\n",
    "spotify"
   ]
  },
  {
   "cell_type": "markdown",
   "metadata": {},
   "source": [
    "Now, to retrive the mentioned musical information from each album, we define a lambda function that uses the user made function `get_album_features_median`, whose inputs are the Spotify API client (`spotify`) and the string of the album name. "
   ]
  },
  {
   "cell_type": "code",
   "execution_count": 8,
   "metadata": {},
   "outputs": [],
   "source": [
    "features_median = lambda x: get_album_features_median(spotify,x)\n"
   ]
  },
  {
   "cell_type": "markdown",
   "metadata": {},
   "source": [
    "We apply this function to the column album, that stores the name of each album."
   ]
  },
  {
   "cell_type": "code",
   "execution_count": 9,
   "metadata": {
    "scrolled": true
   },
   "outputs": [],
   "source": [
    "top500_raw[\"features\"]=top500_raw[\"album\"].apply(features_median)"
   ]
  },
  {
   "cell_type": "markdown",
   "metadata": {},
   "source": [
    "Lastly, this funtion output is a dictionary with the median values of danceability, energy, loudness, speechiness, acousticness, instrumentalness, liveness, valence and tempo for each album.\n",
    "\n",
    "For working better with this data, we add a column for each feature using the Pandas command `concat`."
   ]
  },
  {
   "cell_type": "code",
   "execution_count": 10,
   "metadata": {},
   "outputs": [],
   "source": [
    "top500_raw=pd.concat([top500_raw, top500_raw[\"features\"].apply(pd.Series)], axis=1, sort=False)"
   ]
  },
  {
   "cell_type": "markdown",
   "metadata": {},
   "source": [
    "## Completing the information using the Wikipedia API\n",
    "\n",
    "Now we are going to complete even more the top 500 album dataset by looking at the Wikipedia web page monthly reads for each album and each artists in Spain. This will allow us to compare the curiosity about albums and artist information with the position in the top.\n",
    "\n",
    "To do so, we defined a function in `enrich_functions.py` called `get_wiki_views`. This function output is the median monthly visits for a certain page in a range of time. The inputs are the Wikipedia language (\"es\" for Spain), the name of the Wikipedia article, the initial and ending year, month and days to compute the median monthly reads (we are goint to check it between 2019-10-01 and 2020-10-01).\n",
    "\n",
    "We create a lambda funcion so the only input is the dersired album or artist, and we create a column with eac information using Pandas `apply`."
   ]
  },
  {
   "cell_type": "code",
   "execution_count": 11,
   "metadata": {},
   "outputs": [
    {
     "name": "stderr",
     "output_type": "stream",
     "text": [
      "/home/ordovas/anaconda3/envs/ironhack/lib/python3.8/site-packages/numpy/core/fromnumeric.py:3372: RuntimeWarning: Mean of empty slice.\n",
      "  return _methods._mean(a, axis=axis, dtype=dtype,\n"
     ]
    }
   ],
   "source": [
    "wiki= lambda x: get_wiki_views(\"es\",x,2019,10,1,2020,10,1)\n",
    "top500_raw[\"wiki_views_album\"]=top500_raw[\"album\"].apply(wiki)\n",
    "top500_raw[\"wiki_views_artist\"]=top500_raw[\"artist\"].apply(wiki)"
   ]
  },
  {
   "cell_type": "markdown",
   "metadata": {},
   "source": [
    "Finally, we store the clean dataset in a new file called `albumlist_clean.csv`. We are going to load this cleaned file in the data-analysis notebook to conduct the analysis of the dataset that we prepared in this notebook."
   ]
  },
  {
   "cell_type": "code",
   "execution_count": 12,
   "metadata": {},
   "outputs": [],
   "source": [
    "top500_raw.to_csv('../dataset/albumlist_clean.csv')"
   ]
  },
  {
   "cell_type": "code",
   "execution_count": null,
   "metadata": {},
   "outputs": [],
   "source": []
  },
  {
   "cell_type": "code",
   "execution_count": null,
   "metadata": {},
   "outputs": [],
   "source": []
  }
 ],
 "metadata": {
  "kernelspec": {
   "display_name": "Python 3",
   "language": "python",
   "name": "python3"
  },
  "language_info": {
   "codemirror_mode": {
    "name": "ipython",
    "version": 3
   },
   "file_extension": ".py",
   "mimetype": "text/x-python",
   "name": "python",
   "nbconvert_exporter": "python",
   "pygments_lexer": "ipython3",
   "version": "3.8.5"
  }
 },
 "nbformat": 4,
 "nbformat_minor": 4
}
