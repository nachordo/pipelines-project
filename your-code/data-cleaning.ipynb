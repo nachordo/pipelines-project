{
 "cells": [
  {
   "cell_type": "markdown",
   "metadata": {},
   "source": [
    "# Exploratory analysis of the dataset\n",
    "\n",
    "Banter and more banter\n",
    "\n",
    "https://www.kaggle.com/notgibs/500-greatest-albums-of-all-time-rolling-stone?select=albumlist.csv\n",
    "\n",
    "country_codes= ['AD', 'AR', 'AU', 'AT', 'BE', 'BO', 'BR', 'BG', 'CA', 'CL', 'CO', 'CR', 'CY', 'CZ', 'DK', 'DO', 'EC', 'SV', 'EE', 'FI', 'FR', 'DE', 'GR', 'GT', 'HN', 'HK', 'HU', 'IS', 'ID', 'IE', 'IT', 'JP', 'LV', 'LI', 'LT', 'LU', 'MY', 'MT', 'MX', 'MC', 'NL', 'NZ', 'NI', 'NO', 'PA', 'PY', 'PE', 'PH', 'PL', 'PT', 'SG', 'ES', 'SK', 'SE', 'CH', 'TW', 'TR', 'GB', 'US', 'UY']"
   ]
  },
  {
   "cell_type": "code",
   "execution_count": 1,
   "metadata": {},
   "outputs": [],
   "source": [
    "from dotenv import load_dotenv\n",
    "import os\n",
    "import requests\n",
    "import pandas as pd\n",
    "import spotipy\n",
    "from spotipy.oauth2 import SpotifyClientCredentials\n",
    "import numpy as np\n",
    "from enrich_functions import *\n",
    "from analysis_functions import *\n",
    "import re"
   ]
  },
  {
   "cell_type": "markdown",
   "metadata": {},
   "source": [
    "## Data cleaning"
   ]
  },
  {
   "cell_type": "code",
   "execution_count": 2,
   "metadata": {},
   "outputs": [
    {
     "data": {
      "text/html": [
       "<div>\n",
       "<style scoped>\n",
       "    .dataframe tbody tr th:only-of-type {\n",
       "        vertical-align: middle;\n",
       "    }\n",
       "\n",
       "    .dataframe tbody tr th {\n",
       "        vertical-align: top;\n",
       "    }\n",
       "\n",
       "    .dataframe thead th {\n",
       "        text-align: right;\n",
       "    }\n",
       "</style>\n",
       "<table border=\"1\" class=\"dataframe\">\n",
       "  <thead>\n",
       "    <tr style=\"text-align: right;\">\n",
       "      <th></th>\n",
       "      <th>Year</th>\n",
       "      <th>Album</th>\n",
       "      <th>Artist</th>\n",
       "      <th>Genre</th>\n",
       "      <th>Subgenre</th>\n",
       "    </tr>\n",
       "    <tr>\n",
       "      <th>Number</th>\n",
       "      <th></th>\n",
       "      <th></th>\n",
       "      <th></th>\n",
       "      <th></th>\n",
       "      <th></th>\n",
       "    </tr>\n",
       "  </thead>\n",
       "  <tbody>\n",
       "    <tr>\n",
       "      <th>1</th>\n",
       "      <td>1967</td>\n",
       "      <td>Sgt. Pepper's Lonely Hearts Club Band</td>\n",
       "      <td>The Beatles</td>\n",
       "      <td>Rock</td>\n",
       "      <td>Rock &amp; Roll, Psychedelic Rock</td>\n",
       "    </tr>\n",
       "    <tr>\n",
       "      <th>2</th>\n",
       "      <td>1966</td>\n",
       "      <td>Pet Sounds</td>\n",
       "      <td>The Beach Boys</td>\n",
       "      <td>Rock</td>\n",
       "      <td>Pop Rock, Psychedelic Rock</td>\n",
       "    </tr>\n",
       "    <tr>\n",
       "      <th>3</th>\n",
       "      <td>1966</td>\n",
       "      <td>Revolver</td>\n",
       "      <td>The Beatles</td>\n",
       "      <td>Rock</td>\n",
       "      <td>Psychedelic Rock, Pop Rock</td>\n",
       "    </tr>\n",
       "    <tr>\n",
       "      <th>4</th>\n",
       "      <td>1965</td>\n",
       "      <td>Highway 61 Revisited</td>\n",
       "      <td>Bob Dylan</td>\n",
       "      <td>Rock</td>\n",
       "      <td>Folk Rock, Blues Rock</td>\n",
       "    </tr>\n",
       "    <tr>\n",
       "      <th>5</th>\n",
       "      <td>1965</td>\n",
       "      <td>Rubber Soul</td>\n",
       "      <td>The Beatles</td>\n",
       "      <td>Rock, Pop</td>\n",
       "      <td>Pop Rock</td>\n",
       "    </tr>\n",
       "  </tbody>\n",
       "</table>\n",
       "</div>"
      ],
      "text/plain": [
       "        Year                                  Album          Artist  \\\n",
       "Number                                                                \n",
       "1       1967  Sgt. Pepper's Lonely Hearts Club Band     The Beatles   \n",
       "2       1966                             Pet Sounds  The Beach Boys   \n",
       "3       1966                               Revolver     The Beatles   \n",
       "4       1965                   Highway 61 Revisited       Bob Dylan   \n",
       "5       1965                            Rubber Soul     The Beatles   \n",
       "\n",
       "            Genre                       Subgenre  \n",
       "Number                                            \n",
       "1            Rock  Rock & Roll, Psychedelic Rock  \n",
       "2            Rock     Pop Rock, Psychedelic Rock  \n",
       "3            Rock     Psychedelic Rock, Pop Rock  \n",
       "4            Rock          Folk Rock, Blues Rock  \n",
       "5       Rock, Pop                       Pop Rock  "
      ]
     },
     "execution_count": 2,
     "metadata": {},
     "output_type": "execute_result"
    }
   ],
   "source": [
    "top500_raw = pd.read_csv(\"../dataset/albumlist.csv\", index_col=0, encoding = \"ISO-8859-1\")\n",
    "top500_raw.head()"
   ]
  },
  {
   "cell_type": "code",
   "execution_count": 3,
   "metadata": {},
   "outputs": [],
   "source": [
    "top500_raw.columns = map(str.lower, top500_raw.columns)"
   ]
  },
  {
   "cell_type": "markdown",
   "metadata": {},
   "source": [
    "Separate generes and subgeneres in different columns."
   ]
  },
  {
   "cell_type": "code",
   "execution_count": 4,
   "metadata": {},
   "outputs": [],
   "source": [
    "clean = lambda x: x.replace(\"Ê\",\" \").split(\", \")\n",
    "top500_raw[\"genre\"]=top500_raw[\"genre\"].apply(clean)\n",
    "top500_raw[\"subgenre\"]=top500_raw[\"subgenre\"].apply(clean)"
   ]
  },
  {
   "cell_type": "markdown",
   "metadata": {},
   "source": [
    "Renaming wrong album names and dropping the ones that arent in spoty"
   ]
  },
  {
   "cell_type": "code",
   "execution_count": 5,
   "metadata": {},
   "outputs": [],
   "source": [
    "def wrong(x):\n",
    "    dic={'The Beatles (\"The White Album\")':\"The White Album\",\n",
    "          'Sign \"Peace\" the Times':'Sign \"O\" the Times',\n",
    "          'The Band (\"The Brown Album\")':'The Band',\n",
    "          'Back to Mono (1958-1969)':'Back To Mono',\n",
    "          '[Led Zeppelin IV]':'Led Zeppelin IV',\n",
    "          'Saturday Night Fever: The Original Movie Sound Track':'Saturday Night Fever',\n",
    "          \"The B 52's / Play Loud\":\"The B 52's\",\n",
    "          \"The Very Best of Linda Ronstadt\":\"The Best of Linda Ronstadt\",\n",
    "          \"The Anthology: 1961-1977\": \"The Very Best of Curtis Mayfield\",\n",
    "          'Blues Breakers With Eric Clapton (\"The Beano Album\")':\"Bluesbreakers\",\n",
    "          \"Bo Diddley / Go Bo Diddley\":\"Go Bo Diddley\",\n",
    "          \"Can't Buy a Thrill\":\"Cant Buy a Thrill\",\n",
    "          'Metallica (\"The Black Album\")':\"Metallica\",\n",
    "          \"Trans Europa Express\":\"Trans-Europe Express\",\n",
    "          \"'\":\"\",\n",
    "          \"Honky Chteau\":\"Honky Chateau\",\n",
    "          \"Cheap Trick at Budokan\":\"At Budokan\"\n",
    "          }\n",
    "    xr=x\n",
    "    for wrong,right in dic.items():\n",
    "        xr=xr.replace(wrong,right)\n",
    "    return xr\n",
    "#wrong = lambda x: x.replace(wrong, right) for wrong, right in dict_rep.items()\n",
    "top500_raw[\"album\"]=top500_raw[\"album\"].apply(wrong)\n"
   ]
  },
  {
   "cell_type": "code",
   "execution_count": 6,
   "metadata": {},
   "outputs": [],
   "source": [
    "top500_raw.drop([178,196,198,214,245,278,289,346,363,377,400,421,449,170,459],inplace=True)"
   ]
  },
  {
   "cell_type": "markdown",
   "metadata": {},
   "source": [
    "Enrich spoty"
   ]
  },
  {
   "cell_type": "code",
   "execution_count": 7,
   "metadata": {},
   "outputs": [
    {
     "data": {
      "text/plain": [
       "<spotipy.client.Spotify at 0x7ffa8053c250>"
      ]
     },
     "execution_count": 7,
     "metadata": {},
     "output_type": "execute_result"
    }
   ],
   "source": [
    "load_dotenv()\n",
    "cid = os.getenv(\"SPOTIFY_ID\")\n",
    "secret = os.getenv(\"SPOTIFY_SECRET\")\n",
    "client_credentials_manager = SpotifyClientCredentials(client_id=cid, client_secret=secret)\n",
    "spotify = spotipy.Spotify(client_credentials_manager=client_credentials_manager)\n",
    "spotify"
   ]
  },
  {
   "cell_type": "code",
   "execution_count": 8,
   "metadata": {},
   "outputs": [],
   "source": [
    "features_median = lambda x: get_album_features_median(spotify,x)\n"
   ]
  },
  {
   "cell_type": "code",
   "execution_count": null,
   "metadata": {},
   "outputs": [],
   "source": []
  },
  {
   "cell_type": "code",
   "execution_count": null,
   "metadata": {},
   "outputs": [],
   "source": []
  },
  {
   "cell_type": "code",
   "execution_count": 9,
   "metadata": {
    "scrolled": true
   },
   "outputs": [],
   "source": [
    "top500_raw[\"features\"]=top500_raw[\"album\"].apply(features_median)"
   ]
  },
  {
   "cell_type": "code",
   "execution_count": 10,
   "metadata": {},
   "outputs": [],
   "source": [
    "top500_raw=pd.concat([top500_raw, top500_raw[\"features\"].apply(pd.Series)], axis=1, sort=False)"
   ]
  },
  {
   "cell_type": "markdown",
   "metadata": {},
   "source": [
    "get_wiki_views(lang,page,ini_year,ini_month,ini_day,end_year,end_month,end_day)"
   ]
  },
  {
   "cell_type": "code",
   "execution_count": 11,
   "metadata": {},
   "outputs": [
    {
     "name": "stderr",
     "output_type": "stream",
     "text": [
      "/home/ordovas/anaconda3/envs/ironhack/lib/python3.8/site-packages/numpy/core/fromnumeric.py:3372: RuntimeWarning: Mean of empty slice.\n",
      "  return _methods._mean(a, axis=axis, dtype=dtype,\n"
     ]
    }
   ],
   "source": [
    "wiki= lambda x: get_wiki_views(\"es\",x,2019,10,1,2020,10,1)\n",
    "top500_raw[\"wiki_views_album\"]=top500_raw[\"album\"].apply(wiki)\n",
    "top500_raw[\"wiki_views_artist\"]=top500_raw[\"artist\"].apply(wiki)"
   ]
  },
  {
   "cell_type": "code",
   "execution_count": null,
   "metadata": {},
   "outputs": [],
   "source": []
  },
  {
   "cell_type": "code",
   "execution_count": 12,
   "metadata": {},
   "outputs": [],
   "source": [
    "top500_raw.to_csv('../dataset/albumlist_clean.csv')"
   ]
  },
  {
   "cell_type": "code",
   "execution_count": null,
   "metadata": {},
   "outputs": [],
   "source": []
  },
  {
   "cell_type": "code",
   "execution_count": null,
   "metadata": {},
   "outputs": [],
   "source": []
  }
 ],
 "metadata": {
  "kernelspec": {
   "display_name": "Python 3",
   "language": "python",
   "name": "python3"
  },
  "language_info": {
   "codemirror_mode": {
    "name": "ipython",
    "version": 3
   },
   "file_extension": ".py",
   "mimetype": "text/x-python",
   "name": "python",
   "nbconvert_exporter": "python",
   "pygments_lexer": "ipython3",
   "version": "3.8.5"
  }
 },
 "nbformat": 4,
 "nbformat_minor": 4
}
